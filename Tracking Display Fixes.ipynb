{
 "cells": [
  {
   "cell_type": "code",
   "execution_count": 20,
   "metadata": {},
   "outputs": [],
   "source": [
    "import pandas as pd\n",
    "import datetime"
   ]
  },
  {
   "cell_type": "code",
   "execution_count": null,
   "metadata": {},
   "outputs": [],
   "source": [
    "ue_fixes = pd.read_csv('C://Users//mayoubi//Desktop//Logitech//UE_fixes_Q3_v2.csv', delimiter = ',')\n",
    "\n",
    "#this parses the date in order to sort and subtract\n",
    "\n",
    "ue_fixes['Week Ending']  = pd.to_datetime(ue_fixes['Week Ending'])\n",
    "#ue_fixes_masked = ue_fixes[(ue_fixes['Week Ending'] >= datetime.date(2018,10,6)) \n",
    "#& (ueFixes['Week Ending'] <= datetime.date(2018,12,29))]\n",
    "\n",
    "ue_fixes.head()\n",
    "#print(ue_fixes.dtypes)"
   ]
  },
  {
   "cell_type": "code",
   "execution_count": 14,
   "metadata": {},
   "outputs": [],
   "source": [
    "END_DATE = datetime.date(2018, 12, 29)\n",
    "\n",
    "#define the function count_fixes\n",
    "\n",
    "def count_fixes(issue_dates):\n",
    "    ret = 0\n",
    "    if not issue_dates: \n",
    "        return ret\n",
    "    if len(issue_dates) == 1:\n",
    "        if issue_dates[0] == END_DATE:\n",
    "            return ret\n",
    "        else:\n",
    "            return ret + 1\n",
    "    \n",
    "    issue_dates = sorted(issue_dates)\n",
    "    \n",
    "    for start, end in zip(issue_dates, issue_dates[1:]):\n",
    "        diff = end - start\n",
    "        \n",
    "        if diff.days > 7 and not (start == datetime.date(2018, 10, 20) and end == datetime.date(2018, 11, 3)):\n",
    "            ret += 1\n",
    "    \n",
    "    if issue_dates[-1] != END_DATE:\n",
    "        ret += 1\n",
    "    return ret\n",
    "    "
   ]
  },
  {
   "cell_type": "code",
   "execution_count": null,
   "metadata": {},
   "outputs": [],
   "source": [
    "#tests to make sure the functionality is correct\n",
    "\n",
    "def test_no_issues():\n",
    "    return count_fixes([]) == 0\n",
    "\n",
    "def test_one_issue_date():\n",
    "    cur_issue_dates = [datetime.date(2018, 10, 6)]\n",
    "    ret = count_fixes(cur_issue_dates) == 1\n",
    "    return ret\n",
    "\n",
    "def test_one_issue_last_date():\n",
    "    cur_issue_dates = [datetime.date(2018, 12, 29)]\n",
    "    ret = count_fixes(cur_issue_dates) == 0\n",
    "    return ret\n",
    "\n",
    "def test_two_issues():\n",
    "    cur_issue_dates = [datetime.date(2018, 10, 6), datetime.date(2018, 12, 22)]\n",
    "    ret = count_fixes(cur_issue_dates) == 2\n",
    "    return ret\n",
    "\n",
    "def test_one_issue_consec_two():\n",
    "    cur_issue_dates = [datetime.date(2018, 10, 6), datetime.date(2018, 10, 13)]\n",
    "    ret = count_fixes(cur_issue_dates) == 1\n",
    "    return ret\n",
    "\n",
    "def test_two_issues_consec_three():\n",
    "    cur_issue_dates = [datetime.date(2018, 10, 6), datetime.date(2018, 10, 13), datetime.date(2018, 10, 20), \n",
    "                       datetime.date(2018, 11, 24)]\n",
    "    ret = count_fixes(cur_issue_dates) == 2\n",
    "    return ret\n",
    "\n",
    "def test_three_issues():\n",
    "    cur_issue_dates = [datetime.date(2018, 10, 13), datetime.date(2018, 11, 3), datetime.date(2018, 11, 24)]\n",
    "    ret = count_fixes(cur_issue_dates) == 3\n",
    "    return ret\n",
    "\n",
    "def test_every_week_issues():\n",
    "    cur_issue_dates = [datetime.date(2018, 10, 6), datetime.date(2018, 10, 13), datetime.date(2018, 10, 20), \n",
    "                       datetime.date(2018,11,3), datetime.date(2018,11,10), datetime.date(2018,11,17), \n",
    "                       datetime.date(2018,11,24), datetime.date(2018,12,1), datetime.date(2018,12,8), \n",
    "                       datetime.date(2018,12,15), datetime.date(2018,12,22), datetime.date(2018,12,29)]\n",
    "    ret = count_fixes(cur_issue_dates) == 0\n",
    "    return ret\n",
    "\n",
    "def run_tests():\n",
    "    assert test_no_issues()\n",
    "    assert test_one_issue_date()\n",
    "    assert test_one_issue_last_date()\n",
    "    assert test_two_issues()\n",
    "    assert test_one_issue_consec_two()\n",
    "    assert test_two_issues_consec_three()\n",
    "    assert test_three_issues()\n",
    "    assert test_every_week_issues()\n",
    "    print('All tests passed!')\n",
    "    \n",
    "run_tests()\n",
    "#print(sorted(globals().keys()))"
   ]
  },
  {
   "cell_type": "code",
   "execution_count": null,
   "metadata": {},
   "outputs": [],
   "source": [
    "# demonstrating pairwise iteration\n",
    "\n",
    "x = list(range(5))\n",
    "list(zip(x, x[1:]))"
   ]
  },
  {
   "cell_type": "code",
   "execution_count": null,
   "metadata": {},
   "outputs": [],
   "source": [
    "#how many times a display was fixed for each store with dates\n",
    "\n",
    "store_names = list(ue_fixes.groupby('Store ID').groups.keys())\n",
    "total_fix_count = 0\n",
    "for name in store_names:\n",
    "    cur_df = ue_fixes[ue_fixes['Store ID'] == name]\n",
    "    cur = [ts.to_pydatetime().date() for ts in cur_df['Week Ending']]\n",
    "    cur_fix_count = count_fixes(cur)\n",
    "    total_fix_count += cur_fix_count\n",
    "    print(cur_fix_count, '--', name, '--', cur)"
   ]
  },
  {
   "cell_type": "code",
   "execution_count": 19,
   "metadata": {},
   "outputs": [
    {
     "name": "stdout",
     "output_type": "stream",
     "text": [
      "236\n"
     ]
    }
   ],
   "source": [
    "print(total_fix_count)"
   ]
  }
 ],
 "metadata": {
  "kernelspec": {
   "display_name": "Python 3",
   "language": "python",
   "name": "python3"
  },
  "language_info": {
   "codemirror_mode": {
    "name": "ipython",
    "version": 3
   },
   "file_extension": ".py",
   "mimetype": "text/x-python",
   "name": "python",
   "nbconvert_exporter": "python",
   "pygments_lexer": "ipython3",
   "version": "3.7.1"
  }
 },
 "nbformat": 4,
 "nbformat_minor": 2
}
